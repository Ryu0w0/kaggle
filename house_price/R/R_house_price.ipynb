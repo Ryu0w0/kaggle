{
 "cells": [
  {
   "cell_type": "markdown",
   "metadata": {},
   "source": [
    "# House Price Prediction from [the kaggle competition](https://www.kaggle.com/c/house-prices-advanced-regression-techniques)\n",
    "- Implemented by R"
   ]
  },
  {
   "cell_type": "markdown",
   "metadata": {},
   "source": [
    "# Exploratory"
   ]
  },
  {
   "cell_type": "code",
   "execution_count": 1,
   "metadata": {},
   "outputs": [],
   "source": [
    "df = read.csv(file = \"train.csv\")\n",
    "library(repr)"
   ]
  },
  {
   "cell_type": "markdown",
   "metadata": {},
   "source": [
    "### Filter cols into contributing features and check Nan Data\n",
    "- This competition was already tried by Python before\n",
    "- Hence, useful features have been known as below;"
   ]
  },
  {
   "cell_type": "code",
   "execution_count": 2,
   "metadata": {
    "scrolled": true
   },
   "outputs": [
    {
     "name": "stdout",
     "output_type": "stream",
     "text": [
      "[1] \"Row size: 1460\"\n",
      "[1] \"Col size: 5\"\n"
     ]
    },
    {
     "data": {
      "text/html": [
       "<dl class=dl-horizontal>\n",
       "\t<dt>OverallQual</dt>\n",
       "\t\t<dd>'integer'</dd>\n",
       "\t<dt>YearBuilt</dt>\n",
       "\t\t<dd>'integer'</dd>\n",
       "\t<dt>YearRemodAdd</dt>\n",
       "\t\t<dd>'integer'</dd>\n",
       "\t<dt>X1stFlrSF</dt>\n",
       "\t\t<dd>'integer'</dd>\n",
       "\t<dt>SalePrice</dt>\n",
       "\t\t<dd>'integer'</dd>\n",
       "</dl>\n"
      ],
      "text/latex": [
       "\\begin{description*}\n",
       "\\item[OverallQual] 'integer'\n",
       "\\item[YearBuilt] 'integer'\n",
       "\\item[YearRemodAdd] 'integer'\n",
       "\\item[X1stFlrSF] 'integer'\n",
       "\\item[SalePrice] 'integer'\n",
       "\\end{description*}\n"
      ],
      "text/markdown": [
       "OverallQual\n",
       ":   'integer'YearBuilt\n",
       ":   'integer'YearRemodAdd\n",
       ":   'integer'X1stFlrSF\n",
       ":   'integer'SalePrice\n",
       ":   'integer'\n",
       "\n"
      ],
      "text/plain": [
       " OverallQual    YearBuilt YearRemodAdd    X1stFlrSF    SalePrice \n",
       "   \"integer\"    \"integer\"    \"integer\"    \"integer\"    \"integer\" "
      ]
     },
     "metadata": {},
     "output_type": "display_data"
    },
    {
     "data": {
      "text/html": [
       "<table>\n",
       "<thead><tr><th scope=col>OverallQual</th><th scope=col>YearBuilt</th><th scope=col>YearRemodAdd</th><th scope=col>X1stFlrSF</th><th scope=col>SalePrice</th></tr></thead>\n",
       "<tbody>\n",
       "\t<tr><td>7     </td><td>2003  </td><td>2003  </td><td> 856  </td><td>208500</td></tr>\n",
       "\t<tr><td>6     </td><td>1976  </td><td>1976  </td><td>1262  </td><td>181500</td></tr>\n",
       "\t<tr><td>7     </td><td>2001  </td><td>2002  </td><td> 920  </td><td>223500</td></tr>\n",
       "\t<tr><td>7     </td><td>1915  </td><td>1970  </td><td> 961  </td><td>140000</td></tr>\n",
       "\t<tr><td>8     </td><td>2000  </td><td>2000  </td><td>1145  </td><td>250000</td></tr>\n",
       "\t<tr><td>5     </td><td>1993  </td><td>1995  </td><td> 796  </td><td>143000</td></tr>\n",
       "</tbody>\n",
       "</table>\n"
      ],
      "text/latex": [
       "\\begin{tabular}{r|lllll}\n",
       " OverallQual & YearBuilt & YearRemodAdd & X1stFlrSF & SalePrice\\\\\n",
       "\\hline\n",
       "\t 7      & 2003   & 2003   &  856   & 208500\\\\\n",
       "\t 6      & 1976   & 1976   & 1262   & 181500\\\\\n",
       "\t 7      & 2001   & 2002   &  920   & 223500\\\\\n",
       "\t 7      & 1915   & 1970   &  961   & 140000\\\\\n",
       "\t 8      & 2000   & 2000   & 1145   & 250000\\\\\n",
       "\t 5      & 1993   & 1995   &  796   & 143000\\\\\n",
       "\\end{tabular}\n"
      ],
      "text/markdown": [
       "\n",
       "OverallQual | YearBuilt | YearRemodAdd | X1stFlrSF | SalePrice | \n",
       "|---|---|---|---|---|---|\n",
       "| 7      | 2003   | 2003   |  856   | 208500 | \n",
       "| 6      | 1976   | 1976   | 1262   | 181500 | \n",
       "| 7      | 2001   | 2002   |  920   | 223500 | \n",
       "| 7      | 1915   | 1970   |  961   | 140000 | \n",
       "| 8      | 2000   | 2000   | 1145   | 250000 | \n",
       "| 5      | 1993   | 1995   |  796   | 143000 | \n",
       "\n",
       "\n"
      ],
      "text/plain": [
       "  OverallQual YearBuilt YearRemodAdd X1stFlrSF SalePrice\n",
       "1 7           2003      2003          856      208500   \n",
       "2 6           1976      1976         1262      181500   \n",
       "3 7           2001      2002          920      223500   \n",
       "4 7           1915      1970          961      140000   \n",
       "5 8           2000      2000         1145      250000   \n",
       "6 5           1993      1995          796      143000   "
      ]
     },
     "metadata": {},
     "output_type": "display_data"
    },
    {
     "data": {
      "text/html": [
       "<dl class=dl-horizontal>\n",
       "\t<dt>OverallQual</dt>\n",
       "\t\t<dd>0</dd>\n",
       "\t<dt>YearBuilt</dt>\n",
       "\t\t<dd>0</dd>\n",
       "\t<dt>YearRemodAdd</dt>\n",
       "\t\t<dd>0</dd>\n",
       "\t<dt>X1stFlrSF</dt>\n",
       "\t\t<dd>0</dd>\n",
       "\t<dt>SalePrice</dt>\n",
       "\t\t<dd>0</dd>\n",
       "</dl>\n"
      ],
      "text/latex": [
       "\\begin{description*}\n",
       "\\item[OverallQual] 0\n",
       "\\item[YearBuilt] 0\n",
       "\\item[YearRemodAdd] 0\n",
       "\\item[X1stFlrSF] 0\n",
       "\\item[SalePrice] 0\n",
       "\\end{description*}\n"
      ],
      "text/markdown": [
       "OverallQual\n",
       ":   0YearBuilt\n",
       ":   0YearRemodAdd\n",
       ":   0X1stFlrSF\n",
       ":   0SalePrice\n",
       ":   0\n",
       "\n"
      ],
      "text/plain": [
       " OverallQual    YearBuilt YearRemodAdd    X1stFlrSF    SalePrice \n",
       "           0            0            0            0            0 "
      ]
     },
     "metadata": {},
     "output_type": "display_data"
    }
   ],
   "source": [
    "# features for train\n",
    "tgt = c(\"OverallQual\", \"YearBuilt\", \"YearRemodAdd\", \"X1stFlrSF\", \"SalePrice\" )\n",
    "# filter\n",
    "df = df[, tgt]\n",
    "# check size, type and Nan values\n",
    "print(paste(\"Row size:\", nrow(df)))\n",
    "print(paste(\"Col size:\", ncol(df)))\n",
    "sapply(df, class)\n",
    "head(df)\n",
    "sapply(df, function(x) sum(is.na(x)))"
   ]
  },
  {
   "cell_type": "markdown",
   "metadata": {},
   "source": [
    "### See all relationships\n",
    "- Ensure each variable has a linear relationships with SalesPrice to use a linear regression"
   ]
  },
  {
   "cell_type": "code",
   "execution_count": 3,
   "metadata": {},
   "outputs": [
    {
     "data": {
      "image/png": "[encoded data removed]",
      "text/plain": [
       "plot without title"
      ]
     },
     "metadata": {},
     "output_type": "display_data"
    }
   ],
   "source": [
    "options(repr.plot.width=6, repr.plot.height=4, scipen=5)\n",
    "plot(df$OverallQual, df$SalePrice)"
   ]
  },
  {
   "cell_type": "code",
   "execution_count": 4,
   "metadata": {},
   "outputs": [
    {
     "data": {
      "image/png": "[encoded data removed]",
      "text/plain": [
       "plot without title"
      ]
     },
     "metadata": {},
     "output_type": "display_data"
    },
    {
     "data": {
      "image/png": "[encoded data removed]",
      "text/plain": [
       "plot without title"
      ]
     },
     "metadata": {},
     "output_type": "display_data"
    }
   ],
   "source": [
    "plot(df$X1stFlrSF, df$SalePrice)\n",
    "plot(df$X1stFlrSF, df$SalePrice, xlim = c(0,2000))"
   ]
  },
  {
   "cell_type": "code",
   "execution_count": 5,
   "metadata": {},
   "outputs": [
    {
     "data": {
      "image/png": "[encoded data removed]",
      "text/plain": [
       "plot without title"
      ]
     },
     "metadata": {},
     "output_type": "display_data"
    },
    {
     "data": {
      "image/png": "[encoded data removed]",
      "text/plain": [
       "plot without title"
      ]
     },
     "metadata": {},
     "output_type": "display_data"
    }
   ],
   "source": [
    "options(repr.plot.width=6, repr.plot.height=4, scipen=5)\n",
    "plot(df$YearBuilt, df$SalePrice)\n",
    "plot(df$YearRemodAdd, df$SalePrice)\n"
   ]
  },
  {
   "cell_type": "markdown",
   "metadata": {},
   "source": [
    "# Data Processing\n",
    "## Convert YearRemodAdd\n",
    "YearRemodAdd has two unique features\n",
    "1. Minimum val is 1950\n",
    "1. Many records hold this value (1950)\n",
    "\n",
    "It leads the assumptions below\n",
    "1. The variable of YearRemodAdd has been collected since 1950\n",
    "2. YearRemodAdd was uniformly filled with 1950 when this variable was added\n",
    "\n",
    "If not renovated, YearRemodAdd should be equal with YearBuilt.\n",
    "\n",
    "Hence, the value of 1950 in YearRemodAdd will convert into YearBuilt."
   ]
  },
  {
   "cell_type": "code",
   "execution_count": 6,
   "metadata": {},
   "outputs": [
    {
     "data": {
      "text/html": [
       "166"
      ],
      "text/latex": [
       "166"
      ],
      "text/markdown": [
       "166"
      ],
      "text/plain": [
       "[1] 166"
      ]
     },
     "metadata": {},
     "output_type": "display_data"
    },
    {
     "data": {
      "text/html": [
       "0"
      ],
      "text/latex": [
       "0"
      ],
      "text/markdown": [
       "0"
      ],
      "text/plain": [
       "[1] 0"
      ]
     },
     "metadata": {},
     "output_type": "display_data"
    }
   ],
   "source": [
    "# Check the target for converting\n",
    "length(which(df$YearRemodAdd == 1950 & df$YearBuilt != 1950))\n",
    "\n",
    "# Convert\n",
    "df[df$YearRemodAdd == 1950, \"YearRemodAdd\"] = df[which(df$YearRemodAdd == 1950), \"YearBuilt\"]\n",
    "\n",
    "# Check that # of target is zero\n",
    "length(which(df$YearRemodAdd == 1950 & df$YearBuilt != 1950))"
   ]
  },
  {
   "cell_type": "code",
   "execution_count": 7,
   "metadata": {},
   "outputs": [
    {
     "data": {
      "image/png": "[encoded data removed]",
      "text/plain": [
       "plot without title"
      ]
     },
     "metadata": {},
     "output_type": "display_data"
    }
   ],
   "source": [
    "# Check the plot again after converting\n",
    "options(repr.plot.width=6, repr.plot.height=4, scipen=5)\n",
    "plot(df$YearRemodAdd, df$SalePrice)"
   ]
  },
  {
   "cell_type": "markdown",
   "metadata": {},
   "source": [
    "## Check Outliers\n",
    "### Sale Price\n",
    "- see data over 500,000 as outliers"
   ]
  },
  {
   "cell_type": "code",
   "execution_count": 8,
   "metadata": {},
   "outputs": [
    {
     "data": {
      "image/png": "[encoded data removed]",
      "text/plain": [
       "Plot with title \"Histogram of df$SalePrice\""
      ]
     },
     "metadata": {},
     "output_type": "display_data"
    }
   ],
   "source": [
    "options(repr.plot.width=8, repr.plot.height=4, scipen=5)\n",
    "hist(df$SalePrice)\n",
    "# It will be applied to remove outliears\n",
    "# df = df[df$SalePrice >= 50000 & df$SalePrice <= 500000, ]"
   ]
  },
  {
   "cell_type": "markdown",
   "metadata": {},
   "source": [
    "### X1stFlrSF\n",
    "- See data with X1stFlrSF over 2,200 as outliers"
   ]
  },
  {
   "cell_type": "code",
   "execution_count": 9,
   "metadata": {
    "scrolled": true
   },
   "outputs": [
    {
     "data": {
      "text/plain": [
       "$breaks\n",
       " [1]  200  400  600  800 1000 1200 1400 1600 1800 2000 2200 2400 2600 2800 3000\n",
       "[16] 3200 3400 3600 3800 4000 4200 4400 4600 4800\n",
       "\n",
       "$counts\n",
       " [1]   2  31 180 371 314 203 157 122  40  23   7   5   1   1   1   1   0   0   0\n",
       "[20]   0   0   0   1\n",
       "\n",
       "$density\n",
       " [1] 0.000006849315 0.000106164384 0.000616438356 0.001270547945 0.001075342466\n",
       " [6] 0.000695205479 0.000537671233 0.000417808219 0.000136986301 0.000078767123\n",
       "[11] 0.000023972603 0.000017123288 0.000003424658 0.000003424658 0.000003424658\n",
       "[16] 0.000003424658 0.000000000000 0.000000000000 0.000000000000 0.000000000000\n",
       "[21] 0.000000000000 0.000000000000 0.000003424658\n",
       "\n",
       "$mids\n",
       " [1]  300  500  700  900 1100 1300 1500 1700 1900 2100 2300 2500 2700 2900 3100\n",
       "[16] 3300 3500 3700 3900 4100 4300 4500 4700\n",
       "\n",
       "$xname\n",
       "[1] \"df$X1stFlrSF\"\n",
       "\n",
       "$equidist\n",
       "[1] TRUE\n",
       "\n",
       "attr(,\"class\")\n",
       "[1] \"histogram\""
      ]
     },
     "metadata": {},
     "output_type": "display_data"
    },
    {
     "data": {
      "image/png": "[encoded data removed]",
      "text/plain": [
       "Plot with title \"Histogram of df$X1stFlrSF\""
      ]
     },
     "metadata": {},
     "output_type": "display_data"
    }
   ],
   "source": [
    "options(repr.plot.width=6, repr.plot.height=3, scipen=5)\n",
    "res_hist_lot = hist(df$X1stFlrSF, breaks = 20)\n",
    "res_hist_lot\n",
    "# It will be applied to remove outliers\n",
    "# df = df[df$X1stFlrSF >= 200 & df$X1stFlrSF <= 2200, ]\n"
   ]
  },
  {
   "cell_type": "code",
   "execution_count": 10,
   "metadata": {},
   "outputs": [
    {
     "data": {
      "text/plain": [
       "$breaks\n",
       " [1]      0  50000 100000 150000 200000 250000 300000 350000 400000 450000\n",
       "[11] 500000 550000 600000 650000 700000 750000 800000\n",
       "\n",
       "$counts\n",
       " [1]   5 118 496 414 210 102  61  26  14   5   2   3   2   0   1   1\n",
       "\n",
       "$density\n",
       " [1] 0.00000006849315 0.00000161643836 0.00000679452055 0.00000567123288\n",
       " [5] 0.00000287671233 0.00000139726027 0.00000083561644 0.00000035616438\n",
       " [9] 0.00000019178082 0.00000006849315 0.00000002739726 0.00000004109589\n",
       "[13] 0.00000002739726 0.00000000000000 0.00000001369863 0.00000001369863\n",
       "\n",
       "$mids\n",
       " [1]  25000  75000 125000 175000 225000 275000 325000 375000 425000 475000\n",
       "[11] 525000 575000 625000 675000 725000 775000\n",
       "\n",
       "$xname\n",
       "[1] \"df$SalePrice\"\n",
       "\n",
       "$equidist\n",
       "[1] TRUE\n",
       "\n",
       "attr(,\"class\")\n",
       "[1] \"histogram\""
      ]
     },
     "metadata": {},
     "output_type": "display_data"
    },
    {
     "data": {
      "image/png": "[encoded data removed]",
      "text/plain": [
       "Plot with title \"Histogram of df$SalePrice\""
      ]
     },
     "metadata": {},
     "output_type": "display_data"
    }
   ],
   "source": [
    "res_hist_price = hist(df$SalePrice)\n",
    "res_hist_price\n",
    "# df = df[df$SalePrice >= 50000 & df$SalePrice <= 300000]"
   ]
  },
  {
   "cell_type": "markdown",
   "metadata": {},
   "source": [
    "## Remove Outliers"
   ]
  },
  {
   "cell_type": "code",
   "execution_count": 11,
   "metadata": {},
   "outputs": [],
   "source": [
    "df = df[df$SalePrice >= 50000 & df$SalePrice <= 500000, ]\n",
    "df = df[df$X1stFlrSF >= 200 & df$X1stFlrSF <= 2200, ]\n",
    "df = df[df$SalePrice >= 50000 & df$SalePrice <= 300000, ]"
   ]
  },
  {
   "cell_type": "markdown",
   "metadata": {},
   "source": [
    "## Check correlations\n",
    "- Each variable has from strong to normal correlation with SalePrice"
   ]
  },
  {
   "cell_type": "code",
   "execution_count": 12,
   "metadata": {
    "scrolled": false
   },
   "outputs": [
    {
     "data": {
      "text/html": [
       "<dl>\n",
       "\t<dt>$OverallQual</dt>\n",
       "\t\t<dd><strong>cor:</strong> 0.758606755254896</dd>\n",
       "\t<dt>$YearBuilt</dt>\n",
       "\t\t<dd><strong>cor:</strong> 0.568466568951608</dd>\n",
       "\t<dt>$YearRemodAdd</dt>\n",
       "\t\t<dd><strong>cor:</strong> 0.514955302910677</dd>\n",
       "\t<dt>$X1stFlrSF</dt>\n",
       "\t\t<dd><strong>cor:</strong> 0.503838006995491</dd>\n",
       "\t<dt>$SalePrice</dt>\n",
       "\t\t<dd><strong>cor:</strong> 1</dd>\n",
       "</dl>\n"
      ],
      "text/latex": [
       "\\begin{description}\n",
       "\\item[\\$OverallQual] \\textbf{cor:} 0.758606755254896\n",
       "\\item[\\$YearBuilt] \\textbf{cor:} 0.568466568951608\n",
       "\\item[\\$YearRemodAdd] \\textbf{cor:} 0.514955302910677\n",
       "\\item[\\$X1stFlrSF] \\textbf{cor:} 0.503838006995491\n",
       "\\item[\\$SalePrice] \\textbf{cor:} 1\n",
       "\\end{description}\n"
      ],
      "text/markdown": [
       "$OverallQual\n",
       ":   **cor:** 0.758606755254896\n",
       "$YearBuilt\n",
       ":   **cor:** 0.568466568951608\n",
       "$YearRemodAdd\n",
       ":   **cor:** 0.514955302910677\n",
       "$X1stFlrSF\n",
       ":   **cor:** 0.503838006995491\n",
       "$SalePrice\n",
       ":   **cor:** 1\n",
       "\n",
       "\n"
      ],
      "text/plain": [
       "$OverallQual\n",
       "      cor \n",
       "0.7586068 \n",
       "\n",
       "$YearBuilt\n",
       "      cor \n",
       "0.5684666 \n",
       "\n",
       "$YearRemodAdd\n",
       "      cor \n",
       "0.5149553 \n",
       "\n",
       "$X1stFlrSF\n",
       "     cor \n",
       "0.503838 \n",
       "\n",
       "$SalePrice\n",
       "cor \n",
       "  1 \n"
      ]
     },
     "metadata": {},
     "output_type": "display_data"
    }
   ],
   "source": [
    " sapply(df, function(x) cor.test(x, df$SalePrice))[\"estimate\", ]"
   ]
  },
  {
   "cell_type": "markdown",
   "metadata": {},
   "source": [
    "## Standardization"
   ]
  },
  {
   "cell_type": "code",
   "execution_count": 13,
   "metadata": {},
   "outputs": [
    {
     "data": {
      "text/html": [
       "<table>\n",
       "<thead><tr><th scope=col>OverallQual</th><th scope=col>YearBuilt</th><th scope=col>YearRemodAdd</th><th scope=col>X1stFlrSF</th><th scope=col>SalePrice</th></tr></thead>\n",
       "<tbody>\n",
       "\t<tr><td> 0.93012773</td><td> 1.1334743 </td><td> 0.8550490 </td><td>-0.7891024 </td><td>208500     </td></tr>\n",
       "\t<tr><td> 0.08966608</td><td> 0.2293667 </td><td>-0.1899754 </td><td> 0.4885104 </td><td>181500     </td></tr>\n",
       "\t<tr><td> 0.93012773</td><td> 1.0665034 </td><td> 0.8163444 </td><td>-0.5877053 </td><td>223500     </td></tr>\n",
       "\t<tr><td> 0.93012773</td><td>-1.8132470 </td><td>-0.4222030 </td><td>-0.4586853 </td><td>140000     </td></tr>\n",
       "\t<tr><td> 1.77058939</td><td> 1.0330179 </td><td> 0.7389352 </td><td> 0.1203314 </td><td>250000     </td></tr>\n",
       "\t<tr><td>-0.75079557</td><td> 0.7986196 </td><td> 0.5454122 </td><td>-0.9779122 </td><td>143000     </td></tr>\n",
       "</tbody>\n",
       "</table>\n"
      ],
      "text/latex": [
       "\\begin{tabular}{r|lllll}\n",
       " OverallQual & YearBuilt & YearRemodAdd & X1stFlrSF & SalePrice\\\\\n",
       "\\hline\n",
       "\t  0.93012773 &  1.1334743  &  0.8550490  & -0.7891024  & 208500     \\\\\n",
       "\t  0.08966608 &  0.2293667  & -0.1899754  &  0.4885104  & 181500     \\\\\n",
       "\t  0.93012773 &  1.0665034  &  0.8163444  & -0.5877053  & 223500     \\\\\n",
       "\t  0.93012773 & -1.8132470  & -0.4222030  & -0.4586853  & 140000     \\\\\n",
       "\t  1.77058939 &  1.0330179  &  0.7389352  &  0.1203314  & 250000     \\\\\n",
       "\t -0.75079557 &  0.7986196  &  0.5454122  & -0.9779122  & 143000     \\\\\n",
       "\\end{tabular}\n"
      ],
      "text/markdown": [
       "\n",
       "OverallQual | YearBuilt | YearRemodAdd | X1stFlrSF | SalePrice | \n",
       "|---|---|---|---|---|---|\n",
       "|  0.93012773 |  1.1334743  |  0.8550490  | -0.7891024  | 208500      | \n",
       "|  0.08966608 |  0.2293667  | -0.1899754  |  0.4885104  | 181500      | \n",
       "|  0.93012773 |  1.0665034  |  0.8163444  | -0.5877053  | 223500      | \n",
       "|  0.93012773 | -1.8132470  | -0.4222030  | -0.4586853  | 140000      | \n",
       "|  1.77058939 |  1.0330179  |  0.7389352  |  0.1203314  | 250000      | \n",
       "| -0.75079557 |  0.7986196  |  0.5454122  | -0.9779122  | 143000      | \n",
       "\n",
       "\n"
      ],
      "text/plain": [
       "  OverallQual YearBuilt  YearRemodAdd X1stFlrSF  SalePrice\n",
       "1  0.93012773  1.1334743  0.8550490   -0.7891024 208500   \n",
       "2  0.08966608  0.2293667 -0.1899754    0.4885104 181500   \n",
       "3  0.93012773  1.0665034  0.8163444   -0.5877053 223500   \n",
       "4  0.93012773 -1.8132470 -0.4222030   -0.4586853 140000   \n",
       "5  1.77058939  1.0330179  0.7389352    0.1203314 250000   \n",
       "6 -0.75079557  0.7986196  0.5454122   -0.9779122 143000   "
      ]
     },
     "metadata": {},
     "output_type": "display_data"
    }
   ],
   "source": [
    "train_cols = c(\"OverallQual\", \"YearBuilt\", \"YearRemodAdd\", \"X1stFlrSF\")\n",
    "test_col = c(\"SalePrice\" )\n",
    "\n",
    "df[, train_cols] = scale(df[, train_cols])\n",
    "head(df)"
   ]
  },
  {
   "cell_type": "markdown",
   "metadata": {},
   "source": [
    "## Cross Validation\n",
    "- Split data into 7:3"
   ]
  },
  {
   "cell_type": "code",
   "execution_count": 14,
   "metadata": {},
   "outputs": [],
   "source": [
    "set.seed(0)\n",
    "row_num = nrow(df)\n",
    "train_idx = sample(row_num, row_num * 0.7)\n",
    "\n",
    "train = df[train_idx, ]\n",
    "test = df[-train_idx, ]"
   ]
  },
  {
   "cell_type": "markdown",
   "metadata": {},
   "source": [
    "## Modelling\n",
    "### Linear regression"
   ]
  },
  {
   "cell_type": "code",
   "execution_count": 15,
   "metadata": {
    "scrolled": true
   },
   "outputs": [
    {
     "data": {
      "text/plain": [
       "\n",
       "Call:\n",
       "lm(formula = SalePrice ~ OverallQual + YearBuilt + YearRemodAdd + \n",
       "    X1stFlrSF, data = train)\n",
       "\n",
       "Residuals:\n",
       "    Min      1Q  Median      3Q     Max \n",
       "-112177  -16995   -2195   15155  110549 \n",
       "\n",
       "Coefficients:\n",
       "             Estimate Std. Error t value Pr(>|t|)    \n",
       "(Intercept)  163328.5      901.1 181.251  < 2e-16 ***\n",
       "OverallQual   26931.5     1154.6  23.326  < 2e-16 ***\n",
       "YearBuilt      7887.6     1251.1   6.304 4.47e-10 ***\n",
       "YearRemodAdd   6725.7     1151.4   5.841 7.17e-09 ***\n",
       "X1stFlrSF     14608.7      941.9  15.511  < 2e-16 ***\n",
       "---\n",
       "Signif. codes:  0 '***' 0.001 '**' 0.01 '*' 0.05 '.' 0.1 ' ' 1\n",
       "\n",
       "Residual standard error: 27460 on 926 degrees of freedom\n",
       "Multiple R-squared:  0.6987,\tAdjusted R-squared:  0.6974 \n",
       "F-statistic: 536.8 on 4 and 926 DF,  p-value: < 2.2e-16\n"
      ]
     },
     "metadata": {},
     "output_type": "display_data"
    }
   ],
   "source": [
    "#lm_model = lm(SalePrice ~ OverallQual + YearBuilt + YearRemodAdd + X1stFlrSF, data=train)\n",
    "lm_model = lm(SalePrice ~ OverallQual + YearBuilt + YearRemodAdd + X1stFlrSF, data=train)\n",
    "summary(lm_model)"
   ]
  },
  {
   "cell_type": "markdown",
   "metadata": {},
   "source": [
    "## Evaluating a model\n",
    "- R^2 is 0.69, not bad\n",
    "    - R^2 shows how explanatory variables represent the objective variable \n",
    "- p-values are all ***, very good\n",
    "    - p-values shows how much each variable contributes to representing the objective variable"
   ]
  },
  {
   "cell_type": "markdown",
   "metadata": {},
   "source": [
    "# Prediction by splited train data"
   ]
  },
  {
   "cell_type": "code",
   "execution_count": 16,
   "metadata": {
    "scrolled": true
   },
   "outputs": [
    {
     "name": "stdout",
     "output_type": "stream",
     "text": [
      "[1] \"Linear Regression(MSE): 941198472.76958\"\n",
      "[1] \"Linear Regression(RMSE): 30678.958143483\"\n"
     ]
    }
   ],
   "source": [
    "pred = predict(lm_model, test)\n",
    "print(paste(\"Linear Regression(MSE):\", mean((pred - test$SalePrice)^2)))\n",
    "print(paste(\"Linear Regression(RMSE):\", sqrt(mean((pred - test$SalePrice)^2))))"
   ]
  }
 ],
 "metadata": {
  "kernelspec": {
   "display_name": "R",
   "language": "R",
   "name": "ir"
  },
  "language_info": {
   "codemirror_mode": "r",
   "file_extension": ".r",
   "mimetype": "text/x-r-source",
   "name": "R",
   "pygments_lexer": "r",
   "version": "3.5.1"
  }
 },
 "nbformat": 4,
 "nbformat_minor": 2
}
